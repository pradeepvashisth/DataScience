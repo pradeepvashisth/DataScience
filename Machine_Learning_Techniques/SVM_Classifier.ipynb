{
 "cells": [
  {
   "cell_type": "markdown",
   "metadata": {},
   "source": [
    " # SVM Classifier\n",
    " \n",
    "we explore SVM classification using the Pima Indians Diabetes dataset"
   ]
  },
  {
   "cell_type": "markdown",
   "metadata": {},
   "source": [
    "loading the libraries we need"
   ]
  },
  {
   "cell_type": "code",
   "execution_count": 1,
   "metadata": {},
   "outputs": [],
   "source": [
    "import numpy as np \n",
    "import urllib \n",
    "import pandas as pd \n",
    "from sklearn import preprocessing\n",
    "\n"
   ]
  },
  {
   "cell_type": "markdown",
   "metadata": {},
   "source": [
    "Loading the dataset\n",
    "Load the Pima Indians diabetes dataset from CSV URL\n",
    "URL for the Pima Indians Diabetes dataset (UCI Machine Learning Repository) "
   ]
  },
  {
   "cell_type": "code",
   "execution_count": 17,
   "metadata": {},
   "outputs": [],
   "source": [
    "url=\"https://archive.ics.uci.edu/ml/machine-learning-databases/pima-indians-diabetes/pima-indians-diabetes.data\" "
   ]
  },
  {
   "cell_type": "code",
   "execution_count": 18,
   "metadata": {},
   "outputs": [],
   "source": [
    "#download the file \n",
    "\n",
    "raw_data = urllib.request.urlopen(url)"
   ]
  },
  {
   "cell_type": "markdown",
   "metadata": {},
   "source": [
    "load the text file as a numpy matrix"
   ]
  },
  {
   "cell_type": "code",
   "execution_count": 19,
   "metadata": {},
   "outputs": [],
   "source": [
    "dataset = np.loadtxt(raw_data, delimiter=\",\")"
   ]
  },
  {
   "cell_type": "code",
   "execution_count": 20,
   "metadata": {},
   "outputs": [
    {
     "name": "stdout",
     "output_type": "stream",
     "text": [
      "(768, 9)\n"
     ]
    }
   ],
   "source": [
    "print(dataset.shape)"
   ]
  },
  {
   "cell_type": "markdown",
   "metadata": {},
   "source": [
    "separate the data from the target attributes"
   ]
  },
  {
   "cell_type": "code",
   "execution_count": 21,
   "metadata": {},
   "outputs": [
    {
     "name": "stdout",
     "output_type": "stream",
     "text": [
      "Size dataset: (768, 9)\n"
     ]
    }
   ],
   "source": [
    "X = dataset[ : , 0 : 8 ]\n",
    "y = dataset[ : , 8 ]\n",
    "\n",
    "print ( \"Size dataset: \" + str(dataset . shape))"
   ]
  },
  {
   "cell_type": "markdown",
   "metadata": {},
   "source": [
    "Split into train and test data"
   ]
  },
  {
   "cell_type": "code",
   "execution_count": 22,
   "metadata": {},
   "outputs": [],
   "source": [
    "totalNumExamples = len( X )\n",
    "numTrainExamples = 500\n",
    "XTrain = X [ 0 : numTrainExamples, : ]\n",
    "yTrain = y[ 0 : numTrainExamples]\n",
    "XTest = X [numTrainExamples : totalNumExamples, : ]\n",
    "yTest = y[numTrainExamples : totalNumExamples]"
   ]
  },
  {
   "cell_type": "code",
   "execution_count": 23,
   "metadata": {},
   "outputs": [
    {
     "name": "stdout",
     "output_type": "stream",
     "text": [
      "totalNumExamples: 768\n",
      "numTrainExamples: 500\n",
      "numTestExamples: 268\n",
      " \\ n \\ n Completed reading diabetes data... \n"
     ]
    }
   ],
   "source": [
    "print ( \"totalNumExamples: \" + str(totalNumExamples))\n",
    "print ( \"numTrainExamples: \" + str(len(yTrain)))\n",
    "print ( \"numTestExamples: \" + str(len(yTest)))\n",
    "print (' \\ n \\ n Completed reading diabetes data... ')"
   ]
  },
  {
   "cell_type": "markdown",
   "metadata": {},
   "source": [
    "# Linear SVM"
   ]
  },
  {
   "cell_type": "code",
   "execution_count": 24,
   "metadata": {},
   "outputs": [],
   "source": [
    "from sklearn import svm\n",
    "from sklearn . metrics import accuracy_score"
   ]
  },
  {
   "cell_type": "code",
   "execution_count": 25,
   "metadata": {},
   "outputs": [
    {
     "data": {
      "text/plain": [
       "LinearSVC(C=100, class_weight=None, dual=True, fit_intercept=True,\n",
       "     intercept_scaling=1, loss='hinge', max_iter=1000, multi_class='ovr',\n",
       "     penalty='l2', random_state=None, tol=0.0001, verbose=0)"
      ]
     },
     "execution_count": 25,
     "metadata": {},
     "output_type": "execute_result"
    }
   ],
   "source": [
    "svcLinear = svm . LinearSVC ( C = 100 , loss = 'hinge', max_iter = 1000 )\n",
    "svcLinear"
   ]
  },
  {
   "cell_type": "code",
   "execution_count": 26,
   "metadata": {},
   "outputs": [
    {
     "name": "stdout",
     "output_type": "stream",
     "text": [
      "Accuracy SVM-Linear: 0.59328358209\n"
     ]
    }
   ],
   "source": [
    "svcLinear . fit( XTrain , yTrain)\n",
    "predicted = svcLinear . predict( XTest )\n",
    "print ( \"Accuracy SVM-Linear: \" + str(accuracy_score(yTest,predicted)))"
   ]
  },
  {
   "cell_type": "code",
   "execution_count": null,
   "metadata": {},
   "outputs": [],
   "source": []
  }
 ],
 "metadata": {
  "kernelspec": {
   "display_name": "Python 3",
   "language": "python",
   "name": "python3"
  },
  "language_info": {
   "codemirror_mode": {
    "name": "ipython",
    "version": 3
   },
   "file_extension": ".py",
   "mimetype": "text/x-python",
   "name": "python",
   "nbconvert_exporter": "python",
   "pygments_lexer": "ipython3",
   "version": "3.6.3"
  }
 },
 "nbformat": 4,
 "nbformat_minor": 2
}
