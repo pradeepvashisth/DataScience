{
 "cells": [
  {
   "cell_type": "markdown",
   "metadata": {},
   "source": [
    "# KNN (K-Nearest-Neighbors)\n",
    "\n",
    "Problem Statement:\n",
    "\n",
    "To model the knn classifier using the Breast Cancer data for predicting whether a patient is suffering from the benign tumor or malignant tumor\n",
    "\n",
    "I am going to examine the Breast Cancer Dataset using python sklearn library to model K-nearest neighbor algorithm. After modeling the knn classifier,to use the trained knn model to predict whether the patient is suffering from the benign tumor or malignant tumor.\n",
    "\n",
    "Principle behind KNN classifier (K-Nearest Neighbor) algorithm is to find K predefined number of training samples closest in the distance to new point & predict the label from these. The distance measure is commonly considered to be Euclidean distance."
   ]
  },
  {
   "cell_type": "code",
   "execution_count": 13,
   "metadata": {},
   "outputs": [
    {
     "name": "stderr",
     "output_type": "stream",
     "text": [
      "C:\\Users\\pvashisth\\AppData\\Local\\Continuum\\anaconda3\\lib\\site-packages\\sklearn\\cross_validation.py:41: DeprecationWarning: This module was deprecated in version 0.18 in favor of the model_selection module into which all the refactored classes and functions are moved. Also note that the interface of the new CV iterators are different from that of this module. This module will be removed in 0.20.\n",
      "  \"This module will be removed in 0.20.\", DeprecationWarning)\n"
     ]
    }
   ],
   "source": [
    "# Importing required libraries including knnclassifier and accuracy_score\n",
    "\n",
    "import numpy as np\n",
    "from sklearn.preprocessing import Imputer\n",
    "from sklearn.cross_validation import train_test_split\n",
    "from sklearn.neighbors import KNeighborsClassifier\n",
    "from sklearn.metrics import accuracy_score"
   ]
  },
  {
   "cell_type": "markdown",
   "metadata": {},
   "source": [
    "The dataset I have downloaded is from https://archive.ics.uci.edu/ml/machine-learning-databases/breast-cancer-wisconsin/breast-cancer-wisconsin.data\n",
    "\n",
    "For importing the data and manipulating it,I am going to use numpy arrays. Using genfromtxt() method, I am importing the dataset into the 2d numpy array and import txt files. since all the values in dataset is numeric but some missing and replaced by “?”. So performing some data imputation here therefore using float dtype.\n"
   ]
  },
  {
   "cell_type": "code",
   "execution_count": 17,
   "metadata": {},
   "outputs": [],
   "source": [
    "# Data Import\n",
    "\n",
    "cancer_data = np.genfromtxt(fname ='breast_cancer_data.txt', delimiter= ',', dtype= float)"
   ]
  },
  {
   "cell_type": "code",
   "execution_count": 18,
   "metadata": {},
   "outputs": [
    {
     "name": "stdout",
     "output_type": "stream",
     "text": [
      "Dataset Lenght::  699\n",
      "Dataset::  [[  1.00002500e+06   5.00000000e+00   1.00000000e+00 ...,   1.00000000e+00\n",
      "    1.00000000e+00   2.00000000e+00]\n",
      " [  1.00294500e+06   5.00000000e+00   4.00000000e+00 ...,   2.00000000e+00\n",
      "    1.00000000e+00   2.00000000e+00]\n",
      " [  1.01542500e+06   3.00000000e+00   1.00000000e+00 ...,   1.00000000e+00\n",
      "    1.00000000e+00   2.00000000e+00]\n",
      " ..., \n",
      " [  8.88820000e+05   5.00000000e+00   1.00000000e+01 ...,   1.00000000e+01\n",
      "    2.00000000e+00   4.00000000e+00]\n",
      " [  8.97471000e+05   4.00000000e+00   8.00000000e+00 ...,   6.00000000e+00\n",
      "    1.00000000e+00   4.00000000e+00]\n",
      " [  8.97471000e+05   4.00000000e+00   8.00000000e+00 ...,   4.00000000e+00\n",
      "    1.00000000e+00   4.00000000e+00]]\n",
      "Dataset Shape::  (699, 11)\n"
     ]
    }
   ],
   "source": [
    "# Le'ts see how our data look like once imported into 2nd numpy array\n",
    "\n",
    "print(\"Dataset Lenght:: \", len(cancer_data))\n",
    "print(\"Dataset:: \", str(cancer_data))\n",
    "print(\"Dataset Shape:: \", cancer_data.shape)"
   ]
  },
  {
   "cell_type": "code",
   "execution_count": 19,
   "metadata": {},
   "outputs": [],
   "source": [
    "# First column have patient id so to have unbiased prediction we gonna remove it with below function\n",
    "\n",
    "cancer_data = np.delete(arr = cancer_data, obj= 0, axis = 1)"
   ]
  },
  {
   "cell_type": "markdown",
   "metadata": {},
   "source": [
    "Divide the dataset into feature & label dataset. i.e., feature data is predictor variables they will help us to predict labels(criterion variable). in the dataset the first 9 columns include continuous variables that will help to predict whether a patient is having the benign tumor or malignant tumor."
   ]
  },
  {
   "cell_type": "code",
   "execution_count": 20,
   "metadata": {},
   "outputs": [],
   "source": [
    "X = cancer_data[:,range(0,9)]\n",
    "Y = cancer_data[:,9]"
   ]
  },
  {
   "cell_type": "markdown",
   "metadata": {},
   "source": [
    "Missing values - the missing values are replaced by usual technique with mean, median, mode or any particular value using the imputer method of skylearn. \n"
   ]
  },
  {
   "cell_type": "code",
   "execution_count": 21,
   "metadata": {},
   "outputs": [],
   "source": [
    "imp = Imputer(missing_values=\"NaN\", strategy='median', axis=0)\n",
    "X = imp.fit_transform(X)"
   ]
  },
  {
   "cell_type": "markdown",
   "metadata": {},
   "source": [
    "splitting the Train and test data\n",
    "X_train & y_train are training datasets. X_test & y_test are testing datasets.\n",
    "y_train & y_test are 2d numpy arrays with 1 column. To convert it into a 1d array, ravel() method used here."
   ]
  },
  {
   "cell_type": "code",
   "execution_count": 22,
   "metadata": {},
   "outputs": [],
   "source": [
    "X_train, X_test, y_train, y_test = train_test_split(X, Y, test_size = 0.3, random_state = 100)\n",
    "y_train = y_train.ravel()\n",
    "y_test = y_test.ravel()"
   ]
  },
  {
   "cell_type": "markdown",
   "metadata": {},
   "source": [
    "Time to fit the KNN algorithm on training data and predicting the labels for dataset and printing the accuracy of the model for different values of K(ranging from 1 to 25).\n",
    "using accuracy function i am gonna print the accuracy of KNN algorithm."
   ]
  },
  {
   "cell_type": "code",
   "execution_count": 23,
   "metadata": {},
   "outputs": [
    {
     "name": "stdout",
     "output_type": "stream",
     "text": [
      "Accuracy is  95.2380952381 % for K-Value: 1\n",
      "Accuracy is  93.3333333333 % for K-Value: 2\n",
      "Accuracy is  95.7142857143 % for K-Value: 3\n",
      "Accuracy is  95.2380952381 % for K-Value: 4\n",
      "Accuracy is  95.7142857143 % for K-Value: 5\n",
      "Accuracy is  94.7619047619 % for K-Value: 6\n",
      "Accuracy is  94.7619047619 % for K-Value: 7\n",
      "Accuracy is  94.2857142857 % for K-Value: 8\n",
      "Accuracy is  94.7619047619 % for K-Value: 9\n",
      "Accuracy is  94.2857142857 % for K-Value: 10\n",
      "Accuracy is  94.2857142857 % for K-Value: 11\n",
      "Accuracy is  94.7619047619 % for K-Value: 12\n",
      "Accuracy is  94.7619047619 % for K-Value: 13\n",
      "Accuracy is  93.8095238095 % for K-Value: 14\n",
      "Accuracy is  93.8095238095 % for K-Value: 15\n",
      "Accuracy is  93.8095238095 % for K-Value: 16\n",
      "Accuracy is  93.8095238095 % for K-Value: 17\n",
      "Accuracy is  93.8095238095 % for K-Value: 18\n",
      "Accuracy is  93.8095238095 % for K-Value: 19\n",
      "Accuracy is  93.8095238095 % for K-Value: 20\n",
      "Accuracy is  93.8095238095 % for K-Value: 21\n",
      "Accuracy is  93.8095238095 % for K-Value: 22\n",
      "Accuracy is  93.8095238095 % for K-Value: 23\n",
      "Accuracy is  93.8095238095 % for K-Value: 24\n",
      "Accuracy is  93.8095238095 % for K-Value: 25\n"
     ]
    }
   ],
   "source": [
    "for K in range(25):\n",
    " K_value = K+1\n",
    " neigh = KNeighborsClassifier(n_neighbors = K_value, weights='uniform', algorithm='auto')\n",
    " neigh.fit(X_train, y_train) \n",
    " y_pred = neigh.predict(X_test)\n",
    " print(\"Accuracy is \", accuracy_score(y_test,y_pred)*100,\"% for K-Value:\",K_value)"
   ]
  },
  {
   "cell_type": "markdown",
   "metadata": {},
   "source": [
    "Conclusion\n",
    "\n",
    "As we can I have got 95.71% accuracy on K = 3, 5\n",
    "Choosing a large value of K will lead to greater amount of execution time & underfitting. Selecting the small value of K will lead to overfitting. There is no such guaranteed way to find the best value of K. So, to run it quickly we are considering K =3 for this classification."
   ]
  }
 ],
 "metadata": {
  "kernelspec": {
   "display_name": "Python 3",
   "language": "python",
   "name": "python3"
  },
  "language_info": {
   "codemirror_mode": {
    "name": "ipython",
    "version": 3
   },
   "file_extension": ".py",
   "mimetype": "text/x-python",
   "name": "python",
   "nbconvert_exporter": "python",
   "pygments_lexer": "ipython3",
   "version": "3.6.3"
  }
 },
 "nbformat": 4,
 "nbformat_minor": 2
}
